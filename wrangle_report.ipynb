{
 "cells": [
  {
   "cell_type": "markdown",
   "id": "db4c7d05-9e44-443f-b0cd-6ff74750a18d",
   "metadata": {},
   "source": [
    "# Wrangle Report"
   ]
  },
  {
   "cell_type": "markdown",
   "id": "60718758-e69d-4277-b11f-a0d3c678c461",
   "metadata": {},
   "source": [
    "## Quick review\n",
    "> -- at these data frames we have faced alot of issues as many many missing data can not predict it and some duplicated data for same value\n",
    "> in the column or data no accurate and the most misrable one is the uniqueness issue in id column which must be unique for each user.\n",
    "\n",
    "> we don not face three quality issues in this data : \n",
    "> 1. consistency\n",
    "> 2. timeliness \n",
    "> 3. validity\n",
    "\n",
    "> we face three quality issues in this data :\n",
    "> 1. completeness\n",
    "> 2. uniqueness\n",
    "> 3. accuracy"
   ]
  },
  {
   "cell_type": "markdown",
   "id": "208d8a67-e3f8-4c5a-81d7-8d0f4617ae7a",
   "metadata": {},
   "source": [
    "## Quality issues we faced\n",
    "1. **Completeness**: <br>\n",
    "- There is a duplicated columns has alot of nan values with other names in *media_df* from column with index `[29]` to `[24]` with 2280 null values\n",
    "- Missing values in *media_df* data frame column `id`\n",
    "- There is columns `in_reply_to_user_id` & `in_reply_to_status_id` & `retweeted_status_id` & `retweeted_status_user_id` & `retweeted_status_timestamp` with alot of null values and retweeted no helpful columns at *twitter_archive_enhanced* data frame\n",
    "- There is null values in column `name` in *twitter_archive_enhanced* data frame must be filled\n",
    "\n",
    "2. **Uniqueness**:\n",
    "- There is duplicated values in `id` column at *media_df* data frame\n",
    "- There is duplicated values in `jpg_url` column in data frame *image_predictions*\n",
    "\n",
    "3. **Accuracy**:\n",
    "- Duplicated and untidy values in `expanded_urls` column at *twitter_archive_enhanced* data frame\n",
    "- Data type of `timestamp` column in *twitter_archive_enhanced* data frame is object must be datetime data type into datetime data type\n",
    "- There is zero value and values greater than 10 in `rating_denominator` column at *twitter_archive_enhanced* data frame which must be 10 like others\n",
    "- The `rating_numerator` column has values very high due to `rating_denominator` column is greater than 10 at *twitter_archive_enhanced* data frame which must be devided to reach ten and devided numrator with same number to make correct ratio\n",
    "- To more accurate of data must delete retweets in rows has values of retweeted in `text` has value **RT @**  or `retweeted_status_user_id`columns\n",
    "- Id not right in `id_str` column which It has been cleaned to `tweet_id` *media_df* data frame by comparing id appear in the link of `expanded_url` column in the same row\n",
    "- "
   ]
  },
  {
   "cell_type": "markdown",
   "id": "1c7d2b5d-3330-4aa7-bb78-26fdcf11e686",
   "metadata": {},
   "source": [
    "### Cleaning of the Issues\n",
    "> **First** --> we must make a copy from original data frames to make them protected from any manipulating or coding make them change. <br>\n",
    "> **Second** --> we must see issues with it's define to know how code solve it.  <br>\n",
    "> **Third** --> decide which function we use for this issue and start cleaning"
   ]
  },
  {
   "cell_type": "markdown",
   "id": "1176ad97-51a7-477c-bb42-f3e929a4ea45",
   "metadata": {},
   "source": [
    "#### Function used in cleaning\n",
    "1. `.to_datetime` to convert any data type to date time data type\n",
    "2. `.dropna` to drop null values selected\n",
    "3. `.drop` to drop values or series you don not want\n",
    "4. `.drop_duplicates()` to drop duplicates values\n",
    "5. `lambda` to make a little function facilitate cleaning process\n",
    "6. `.str.contains()` to get text must be cleaned\n",
    "7. `.dtype` to check type of series"
   ]
  },
  {
   "cell_type": "markdown",
   "id": "fcf3646d-1a29-40c0-b81d-6df881756cdf",
   "metadata": {
    "jp-MarkdownHeadingCollapsed": true
   },
   "source": [
    "## Tidiness issues we faced\n",
    "1. there is column for each breed which that make it not easy to read so we make in *twitter_archive_enhanced* data frame column for breeds (doggo, floofer, puppo, pupper) called `breed`\n",
    "\n",
    "2. `id_str` column at *media_df* data frame is breferd to name `tweet_id` as other data frames to facilitate merging and analysing data "
   ]
  },
  {
   "cell_type": "markdown",
   "id": "4e73f86d-465c-41b0-9bde-2b69d285d261",
   "metadata": {},
   "source": [
    "### Cleaning of the issues\n",
    "> As we do at cleaning of quality issues must make a copy of original data and define problem and decide function to use and code it"
   ]
  },
  {
   "cell_type": "markdown",
   "id": "c5bee2be-42ca-496c-bdfd-7714f70a4b83",
   "metadata": {},
   "source": [
    "#### Function used in cleaning\n",
    "1. `.str.contains()` to bick specific word in a text paragraph value\n",
    "2. `.loc` to can get location of bolean index you give\n",
    "3. `.rename` to rename column or something you want rename it"
   ]
  },
  {
   "cell_type": "markdown",
   "id": "9d660eec-c9c3-4b34-a17d-76db271c36ed",
   "metadata": {},
   "source": [
    "## Finally we merge all cleaned data frames"
   ]
  }
 ],
 "metadata": {
  "kernelspec": {
   "display_name": "Python 3 (ipykernel)",
   "language": "python",
   "name": "python3"
  },
  "language_info": {
   "codemirror_mode": {
    "name": "ipython",
    "version": 3
   },
   "file_extension": ".py",
   "mimetype": "text/x-python",
   "name": "python",
   "nbconvert_exporter": "python",
   "pygments_lexer": "ipython3",
   "version": "3.12.4"
  }
 },
 "nbformat": 4,
 "nbformat_minor": 5
}
