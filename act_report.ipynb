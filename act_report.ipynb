{
 "cells": [
  {
   "cell_type": "markdown",
   "id": "4de59711-92a4-471e-a3f3-5aa3f7e79045",
   "metadata": {},
   "source": [
    "# Act Report "
   ]
  },
  {
   "cell_type": "markdown",
   "id": "053ae5cd-fce7-4f6d-a6de-48c757f788b4",
   "metadata": {},
   "source": [
    "## EDA\n",
    "> there a lot of EDAS must happened but i made just 3 talks about breed and how breed rated to be the most rated and the least rated and what is the most spreadest on between as shown in insights and it's explaination in the second cell\n"
   ]
  },
  {
   "cell_type": "markdown",
   "id": "1c14f5f7-5600-4e9f-9ea4-11ded750aadb",
   "metadata": {},
   "source": [
    "<img src=\"breed_barh.png\"/>"
   ]
  },
  {
   "cell_type": "markdown",
   "id": "538f35c4-73a0-42b9-aff4-83166473648b",
   "metadata": {},
   "source": [
    "### Definitions\n",
    ">**Doggo**: This term refers to a dog in general. It’s a catch-all term for our furry friends. <br>\n",
    ">**Pupper**: A “pupper” is a small doggo, typically a puppy. So, if you see a cute little dog, you can call it a pupper! <br>\n",
    ">**Puppo**: Slang term for puppy. It’s often used in puppy-themed memes <br>\n",
    ">**Woofer**: Now, a “woofer” is a big ol’ doggo. Imagine a large, majestic dog—yep, that’s a woofer.<br>\n",
    ">**Floofer**: A floofer is a big ol’ woofer. Essentially, it’s a fluffy dog with lots of fur. Think of those adorable, fluffy"
   ]
  },
  {
   "cell_type": "markdown",
   "id": "6441c905-431d-4d6c-9d0c-6eda7c9a4805",
   "metadata": {},
   "source": [
    "### Plot explaination\n",
    "> As we see in this picture has a barh plot that's hygen dogs always be with doggo breed that's give it a sense, every dog before it's classification from his/her owner called the pet doggo because it's the general expression for all dogs with fur (Dogs are 99% always furry) and then after period of time call them with pupper or puppo to make them as a cute and small person from family or if they call dog floofer or woofer then this dog act as a bodyguard or a big person in family but that has a low percentage as shown in plot (pets owners may have pets to look after them and share love with them not share responsibilities)"
   ]
  },
  {
   "cell_type": "markdown",
   "id": "980b1a1e-0942-4fec-a121-6221502522fc",
   "metadata": {},
   "source": [
    "### Insights:\n",
    "1. **pupper** breed is the spreadest breed between other breeds.\n",
    "   - make this expression more wide between other that every pet owner see his/her pet very cute and small in his/her vision because they who look after the pet so they thought it's thier son or baby that make every pet owner called or make its breed called pupper.\n",
    "\n",
    "3. breed **puppo** is the highest rated one.\n",
    "    - that make sense that puppo breed has highest rating, because every body rate anything with high score ofcourse he must see it good and   beautiful that's exactly what happend with pet owners when they rate other dogs they give high rate for dogs they see cute and beatiful and very smooth like puppies these characteristics gathered in one expression called puppo.\n",
    "      \n",
    "4. breed floofer is the least rated one.\n",
    "    - that's very justice to give floofer dogs the lowest rate, ofcourse every pet owner rate another dog will no give high rate for dog looks like a bear, that's not sounds cool , every one not just a pet owner or in a pets owners groups will rate floofer dog will low rate because it's dog with lots of fur and not look like cute as puppo or pupper so they will no lean towards it."
   ]
  }
 ],
 "metadata": {
  "kernelspec": {
   "display_name": "Python 3 (ipykernel)",
   "language": "python",
   "name": "python3"
  },
  "language_info": {
   "codemirror_mode": {
    "name": "ipython",
    "version": 3
   },
   "file_extension": ".py",
   "mimetype": "text/x-python",
   "name": "python",
   "nbconvert_exporter": "python",
   "pygments_lexer": "ipython3",
   "version": "3.12.4"
  }
 },
 "nbformat": 4,
 "nbformat_minor": 5
}
